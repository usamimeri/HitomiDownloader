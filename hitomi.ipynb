{
 "cells": [
  {
   "attachments": {},
   "cell_type": "markdown",
   "metadata": {},
   "source": [
    "https://ba.hitomi.la/webp/1686733202/414/18df50f9540ce9c3200c84860f29bdb1bbd4c20cb38becab12624196b5e819e1.webp 怎么构造的？ \n",
    "1. 1686733202可能是时间戳，是目前整点的吧,我测试发现17:44时对应时间戳是17:00的\n",
    "2. 414那部分是将倒数第一位和倒数二三换位后转十六进制int('19e',16)\n",
    "2. 最后一部分是哈希值，可以通过解析https://ltn.hitomi.la/galleries/2113970.js 获得 其中最后的数字是画廊id\n",
    "1. aa还是ba有自己的判断逻辑 具体见https://ltn.hitomi.la/gg.js"
   ]
  },
  {
   "attachments": {},
   "cell_type": "markdown",
   "metadata": {},
   "source": [
    "## 思路\n",
    "注意以下必须要注意referer 不然会报错！\n",
    "1. 用户输入画廊链接\n",
    "2. 提取链接的galleryid\n",
    "3. 请求js地址，返回数据https://ltn.hitomi.la/galleries/画廊的id.js\n",
    "3. 请求gg.js,https://ltn.hitomi.la/gg.js 返回映射表，时间戳\n",
    "4. 解析返回数据，格式化，返回info并存储本地cache\n",
    "    > 需要注意这步关键是获取哈希值\n",
    "6. 根据哈希值获取subdomain即十六进制数部分\n",
    "7. 根据返回映射表判断链接\n",
    "8. 以上 获取了所有图片的下载链接\n",
    "9. 下载为jpg格式 可以多线程，只需要传入url"
   ]
  },
  {
   "attachments": {},
   "cell_type": "markdown",
   "metadata": {},
   "source": [
    "这段是构造是aa还是ba"
   ]
  },
  {
   "cell_type": "code",
   "execution_count": 4,
   "metadata": {
    "vscode": {
     "languageId": "javascript"
    }
   },
   "outputs": [
    {
     "ename": "SyntaxError",
     "evalue": "invalid syntax (3207787308.py, line 1)",
     "output_type": "error",
     "traceback": [
      "\u001b[1;36m  File \u001b[1;32m\"C:\\Users\\usamirenko_zwjver\\AppData\\Local\\Temp\\ipykernel_31776\\3207787308.py\"\u001b[1;36m, line \u001b[1;32m1\u001b[0m\n\u001b[1;33m    function subdomain_from_url(url, base) {\u001b[0m\n\u001b[1;37m             ^\u001b[0m\n\u001b[1;31mSyntaxError\u001b[0m\u001b[1;31m:\u001b[0m invalid syntax\n"
     ]
    }
   ],
   "source": [
    "function subdomain_from_url(url, base) {\n",
    "    var retval = 'b';\n",
    "    if (base) {\n",
    "            retval = base;\n",
    "    }\n",
    "    \n",
    "    var b = 16;\n",
    "    \n",
    "    var r = /\\/[0-9a-f]{61}([0-9a-f]{2})([0-9a-f])/;\n",
    "    var m = r.exec(url);\n",
    "    if (!m) {\n",
    "            return 'a';\n",
    "    }\n",
    "    \n",
    "    var g = parseInt(m[2]+m[1], b);\n",
    "    if (!isNaN(g)) {\n",
    "            retval = String.fromCharCode(97 + gg.m(g)) + retval;\n",
    "    }\n",
    "    \n",
    "    return retval;\n",
    "}"
   ]
  }
 ],
 "metadata": {
  "kernelspec": {
   "display_name": "base",
   "language": "python",
   "name": "python3"
  },
  "language_info": {
   "codemirror_mode": {
    "name": "ipython",
    "version": 3
   },
   "file_extension": ".py",
   "mimetype": "text/x-python",
   "name": "python",
   "nbconvert_exporter": "python",
   "pygments_lexer": "ipython3",
   "version": "3.9.13"
  },
  "orig_nbformat": 4
 },
 "nbformat": 4,
 "nbformat_minor": 2
}
